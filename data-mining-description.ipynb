{
 "cells": [
  {
   "cell_type": "code",
   "execution_count": 2,
   "metadata": {},
   "outputs": [
    {
     "name": "stdout",
     "output_type": "stream",
     "text": [
      "Requirement already satisfied: pyspark in /usr/local/lib/python3.7/site-packages (2.4.4)\n",
      "Requirement already satisfied: py4j==0.10.7 in /usr/local/lib/python3.7/site-packages (from pyspark) (0.10.7)\n",
      "Requirement already satisfied: wget in /usr/local/lib/python3.7/site-packages (3.2)\n"
     ]
    }
   ],
   "source": [
    "!source ./A2/bin/activate\n",
    "!pip3 install pyspark\n",
    "!pip3 install wget"
   ]
  },
  {
   "cell_type": "code",
   "execution_count": 3,
   "metadata": {},
   "outputs": [],
   "source": [
    "import os\n",
    "import wget\n",
    "import pyspark\n",
    "from pyspark.sql.session import SparkSession\n",
    "from pyspark.sql.functions import udf, lit, min, col\n",
    "from pyspark.sql.types import StringType"
   ]
  },
  {
   "cell_type": "code",
   "execution_count": 4,
   "metadata": {},
   "outputs": [],
   "source": [
    "java8_location = '/Library/Java/JavaVirtualMachines/liberica-jdk-1.8.0_202/Contents/Home'  # Set your own\n",
    "os.environ['JAVA_HOME'] = java8_location\n",
    "\n",
    "app = SparkSession.builder.appName(\"A1\").getOrCreate()\n",
    "sc = app.sparkContext\n",
    "spark = SparkSession(sc)"
   ]
  },
  {
   "cell_type": "code",
   "execution_count": 8,
   "metadata": {
    "collapsed": true,
    "jupyter": {
     "outputs_hidden": true
    }
   },
   "outputs": [
    {
     "name": "stdout",
     "output_type": "stream",
     "text": [
      "+--------------------+--------------+--------------------+--------------------+--------------------+--------+-----------------+--------+\n",
      "|       color_pallete|dominant_color|       palette_count| textual_description|     iconclass_codes|concepts|general_sentiment| omni_id|\n",
      "+--------------------+--------------+--------------------+--------------------+--------------------+--------+-----------------+--------+\n",
      "|[u'#9d9b9e', u'#7...|       #a5a4a7|[5511, 3454, 4480...|                null|                null|    null|             null| 5185830|\n",
      "|[u'#eddfc3', u'#e...|       #392e1a|[5988, 6333, 4763...|woman sailing in ...|96A5(FORTUNA), 25...|    null|             null|13000002|\n",
      "|[u'#d4cfc1', u'#c...|       #565143|[3619, 5414, 4354...|man with eared an...|24A1, 31A2512(+93...|    null|             null|13000004|\n",
      "|[u'#e8e9ea', u'#d...|       #dad9da|[4017, 6499, 5195...|birds in and arou...|24A1, 26A, 47I421...|    null|             null|13000005|\n",
      "|[u'#d9d7d7', u'#c...|       #d2d0cf|[5811, 5313, 4885...|man looking at hi...|52A44, 56F241(+4)...|    null|             null|13000006|\n",
      "|[u'#c0b7a5', u'#b...|       #867a66|[5210, 4666, 4078...|two men fishing f...|25G11, 44F0, 43C1...|    null|             null|13000008|\n",
      "|[u'#e4e1e0', u'#d...|       #d5d3d1|[3611, 5402, 6995...|ganymede being ca...|25H23, 98B(HOMER)...|    null|             null|13000010|\n",
      "|[u'#c9c7c1', u'#c...|       #1e1c14|[6571, 5783, 5184...|naked bacchus cro...|98B(PRAXITELES)3,...|    null|             null|13000011|\n",
      "|[u'#d6d3c5', u'#a...|       #121008|[3758, 4935, 5352...|chariot being pul...|46C145, 53C11(+4)...|    null|             null|13000012|\n",
      "|[u'#e6e7e7', u'#d...|       #a8a8a4|[3884, 4712, 4205...|bird of prey flyi...|26C, 25F33(FALCON...|    null|             null|13000014|\n",
      "|[u'#f3f3f3', u'#e...|       #d6d5d4|[3965, 7113, 8577...|fox sitting under...|41A311, 31A2352, ...|    null|             null|13000015|\n",
      "|[u'#e9e3dc', u'#c...|       #191510|[3289, 5155, 5674...|elephant carrying...|45A20, 41B32, 11A...|    null|             null|13000658|\n",
      "|[u'#ffffff', u'#f...|       #ffffff|[59446, 202, 403,...|         a fir tree.|25H113, 26A, 54FF...|    null|             null|13001196|\n",
      "|[u'#e3e3e3', u'#d...|       #7a7a7a|[4250, 3911, 7312...|(leon battista al...|48C161, 42E3723, ...|    null|             null|13006169|\n",
      "|[u'#e3e1ea', u'#a...|       #1a191e|[5767, 4988, 6423...|portret van maria...|             61B(+2)|    null|             null|13272083|\n",
      "|[u'#e1dfde', u'#c...|       #aaa6a2|[4231, 4472, 5246...|the two-headed im...|25H11, 25G11, 31A...|    null|             null|13000018|\n",
      "|[u'#ccc7ba', u'#a...|       #363226|[3640, 4125, 5158...|a bat flying at n...|97CC7, 26A, 23R14...|    null|             null|13000020|\n",
      "|[u'#cac7c3', u'#c...|       #67635d|[3758, 4219, 5112...|goat suckling a y...|25H113, 31AA2711,...|    null|             null|13000021|\n",
      "|[u'#cecdca', u'#c...|       #62605b|[4498, 4228, 4028...|satyr. same pictu...|26A, 31A222(+89),...|    null|             null|13000022|\n",
      "|[u'#d5d5d4', u'#d...|       #84827e|[4231, 4455, 4988...|old man sitting c...|31E3, 56F2(+4), 2...|    null|             null|13000024|\n",
      "+--------------------+--------------+--------------------+--------------------+--------------------+--------+-----------------+--------+\n",
      "only showing top 20 rows\n",
      "\n"
     ]
    }
   ],
   "source": [
    "csv_folder = \"./data/csv/\"\n",
    "csv_datadump = \"description.csv\"\n",
    "df = spark.read.csv(csv_folder + csv_datadump, header=True)\n",
    "df.show()"
   ]
  },
  {
   "cell_type": "code",
   "execution_count": 9,
   "metadata": {},
   "outputs": [
    {
     "data": {
      "text/plain": [
       "1946582"
      ]
     },
     "execution_count": 9,
     "metadata": {},
     "output_type": "execute_result"
    }
   ],
   "source": [
    "df.count()"
   ]
  },
  {
   "cell_type": "code",
   "execution_count": 11,
   "metadata": {},
   "outputs": [
    {
     "data": {
      "text/plain": [
       "1945996"
      ]
     },
     "execution_count": 11,
     "metadata": {},
     "output_type": "execute_result"
    }
   ],
   "source": [
    "df.select(\"omni_id\").distinct().count()"
   ]
  },
  {
   "cell_type": "code",
   "execution_count": null,
   "metadata": {},
   "outputs": [],
   "source": []
  },
  {
   "cell_type": "code",
   "execution_count": null,
   "metadata": {},
   "outputs": [],
   "source": []
  },
  {
   "cell_type": "code",
   "execution_count": null,
   "metadata": {},
   "outputs": [],
   "source": []
  },
  {
   "cell_type": "code",
   "execution_count": null,
   "metadata": {},
   "outputs": [],
   "source": []
  },
  {
   "cell_type": "code",
   "execution_count": null,
   "metadata": {},
   "outputs": [],
   "source": []
  },
  {
   "cell_type": "code",
   "execution_count": null,
   "metadata": {},
   "outputs": [],
   "source": []
  }
 ],
 "metadata": {
  "kernelspec": {
   "display_name": "Python 3",
   "language": "python",
   "name": "python3"
  },
  "language_info": {
   "codemirror_mode": {
    "name": "ipython",
    "version": 3
   },
   "file_extension": ".py",
   "mimetype": "text/x-python",
   "name": "python",
   "nbconvert_exporter": "python",
   "pygments_lexer": "ipython3",
   "version": "3.7.5"
  }
 },
 "nbformat": 4,
 "nbformat_minor": 4
}
